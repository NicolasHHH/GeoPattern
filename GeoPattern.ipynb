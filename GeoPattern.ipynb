{
 "cells": [
  {
   "cell_type": "code",
   "execution_count": 74,
   "metadata": {
    "collapsed": true,
    "ExecuteTime": {
     "start_time": "2023-04-16T02:54:12.123795Z",
     "end_time": "2023-04-16T02:54:12.167236Z"
    }
   },
   "outputs": [
    {
     "name": "stdout",
     "output_type": "stream",
     "text": [
      "Local coordinates: X = 636427.4305303936, Y = 3434278.9529457837\n"
     ]
    }
   ],
   "source": [
    "## GeoPattern object\n",
    "import math\n",
    "import pyproj\n",
    "from pyproj import Transformer\n",
    "import numpy as np\n",
    "import matplotlib.pyplot as plt\n",
    "\n",
    "class Checkpoint:\n",
    "    def __init__(self, lon, lat):\n",
    "        # 121.42875239,31.02189847 (bottom left point of the Nanti soccer field of SJTU\n",
    "        # 636427.445,3434278.842\n",
    "        self.lat = lat\n",
    "        self.lon = lon\n",
    "\n",
    "    def get_coords(self):\n",
    "        return self.lon, self.lat\n",
    "\n",
    "    def to_local_crs(self):\n",
    "        # Define the WGS84 coordinate reference system\n",
    "        wgs84 = pyproj.CRS(\"EPSG:4326\")\n",
    "\n",
    "        # Define the Shanghai local CRS (e.g., EPSG:4549)\n",
    "        # China Geodetic Coordinate System 2000 / 3-degree Gauss-Kruger CM 120E\n",
    "        local_crs = pyproj.CRS(\"EPSG:4549\")\n",
    "\n",
    "        # Create a transformer to convert coordinates between the two CRS\n",
    "        transformer = Transformer.from_crs(wgs84, local_crs)\n",
    "\n",
    "        # Transform the WGS84 coordinates to the local CRS\n",
    "        local_x, local_y = transformer.transform(self.lat, self.lon)\n",
    "\n",
    "        return local_y, local_x\n",
    "\n",
    "\n",
    "# Example usage:\n",
    "checkpoint = Checkpoint(121.42875239,31.02189847)\n",
    "local_x, local_y = checkpoint.to_local_crs()\n",
    "print(f\"Local coordinates: X = {local_x}, Y = {local_y}\")\n"
   ]
  },
  {
   "cell_type": "code",
   "execution_count": 134,
   "outputs": [],
   "source": [
    "from math import sin, cos, sqrt, atan2, radians, asin, degrees\n",
    "\n",
    "def haversine(lat1, lon1, lat2, lon2):\n",
    "    R = 6371e3  # 地球半径，单位：米\n",
    "\n",
    "    lat1_rad = radians(lat1)\n",
    "    lon1_rad = radians(lon1)\n",
    "    lat2_rad = radians(lat2)\n",
    "    lon2_rad = radians(lon2)\n",
    "\n",
    "    d_lat = lat2_rad - lat1_rad\n",
    "    d_lon = lon2_rad - lon1_rad\n",
    "\n",
    "    a = sin(d_lat / 2) ** 2 + cos(lat1_rad) * cos(lat2_rad) * sin(d_lon / 2) ** 2\n",
    "    c = 2 * atan2(sqrt(a), sqrt(1 - a))\n",
    "\n",
    "    distance = R * c\n",
    "    return distance\n",
    "\n",
    "\n",
    "def get_new_coordinate(checkpoint, distance, angle):\n",
    "    lon, lat = checkpoint.get_coords()\n",
    "    angle_rad = math.radians(angle)\n",
    "\n",
    "    wgs84 = pyproj.CRS(\"EPSG:4326\")\n",
    "    local_crs = pyproj.CRS(\"EPSG:4549\")\n",
    "    transformer = Transformer.from_crs(wgs84, local_crs)\n",
    "\n",
    "    y, x = transformer.transform(lat, lon)\n",
    "\n",
    "    # Calculate the new coordinate\n",
    "    new_x = x + distance * math.cos(angle_rad)\n",
    "    new_y = y + distance * math.sin(angle_rad)\n",
    "\n",
    "    # Convert the local UTM coordinates back to WGS84 coordinates\n",
    "    new_lat, new_lon = transformer.transform(new_y, new_x, direction=\"inverse\")\n",
    "\n",
    "    return Checkpoint(new_lon, new_lat)\n",
    "\n",
    "def local_xy_to_wgs84(xy_list, local_crs_epsg=4549):\n",
    "    # Define the CRS transformations\n",
    "    local_crs = pyproj.CRS.from_epsg(local_crs_epsg)\n",
    "    wgs84_crs = pyproj.CRS.from_epsg(4326)\n",
    "    transformer = pyproj.Transformer.from_crs(local_crs, wgs84_crs, always_xy=True)\n",
    "\n",
    "    wgs84_coords = []\n",
    "\n",
    "    for x, y in xy_list:\n",
    "        lon, lat = transformer.transform(x, y)\n",
    "        wgs84_coords.append((lon, lat))\n",
    "\n",
    "    return wgs84_coords\n"
   ],
   "metadata": {
    "collapsed": false,
    "ExecuteTime": {
     "start_time": "2023-04-16T03:29:04.133608Z",
     "end_time": "2023-04-16T03:29:04.179343Z"
    }
   }
  },
  {
   "cell_type": "code",
   "execution_count": 135,
   "outputs": [
    {
     "data": {
      "text/plain": "(121.42953385897906, 31.0220336281169)"
     },
     "execution_count": 135,
     "metadata": {},
     "output_type": "execute_result"
    }
   ],
   "source": [
    "get_new_coordinate(Checkpoint(121.42875341,31.02189977), 76, 12).get_coords()"
   ],
   "metadata": {
    "collapsed": false,
    "ExecuteTime": {
     "start_time": "2023-04-16T03:29:05.128373Z",
     "end_time": "2023-04-16T03:29:05.132376Z"
    }
   }
  },
  {
   "cell_type": "code",
   "execution_count": 149,
   "outputs": [],
   "source": [
    "class SoccerField:\n",
    "    def __init__(self, left_bottom_checkpoint, bottom_line_direction, field_length=105, field_width=70):\n",
    "        self.field_width = field_width\n",
    "        self.field_length = field_length\n",
    "        self.checkpoints = None\n",
    "        self.trajectory = []\n",
    "        self.generate_soccer_field_checkpoints(left_bottom_checkpoint, bottom_line_direction)\n",
    "\n",
    "    def generate_soccer_field_checkpoints(self, left_bottom_checkpoint, bottom_line_direction):\n",
    "        \n",
    "        d_up = bottom_line_direction + 90\n",
    "        d_right = bottom_line_direction\n",
    "        \n",
    "        penalty_box_height = 16.5\n",
    "        penalty_box_width = 40.3\n",
    "        dis_corner2penalty_box = (self.field_width- penalty_box_width) / 2\n",
    "        \n",
    "        left_bottom = left_bottom_checkpoint  # 左下角\n",
    "        left_top = get_new_coordinate(left_bottom, self.field_width, d_up)  # 左上角\n",
    "        right_bottom = get_new_coordinate(left_bottom, self.field_length, d_right)  # 右下角\n",
    "        right_top = get_new_coordinate(right_bottom, self.field_width, d_up)  # 右上角\n",
    "        \n",
    "        top_mid = get_new_coordinate(left_top, self.field_length / 2, d_right)  # 上中点\n",
    "        bottom_mid = get_new_coordinate(left_bottom, self.field_length / 2, d_right) # 下中点\n",
    "        center = get_new_coordinate(bottom_mid, self.field_width / 2, d_up) # 下中点\n",
    "        \n",
    "        left_penalty_box_bottom_right = get_new_coordinate(left_bottom, dis_corner2penalty_box, d_up)  # 左禁区右下角\n",
    "        left_penalty_box_top_right = get_new_coordinate(left_penalty_box_bottom_right, penalty_box_height, d_right)  # 左禁区右上角\n",
    "        left_penalty_box_bottom_left = get_new_coordinate(left_penalty_box_bottom_right, penalty_box_width, d_up)  # 左禁区左下角\n",
    "        left_penalty_box_top_left = get_new_coordinate(left_penalty_box_top_right, penalty_box_width, d_up)  # 左禁区左上角\n",
    "\n",
    "        right_penalty_box_bottom_left = get_new_coordinate(right_bottom, dis_corner2penalty_box, d_up)  # 右禁区左下角\n",
    "        right_penalty_box_top_left = get_new_coordinate(right_penalty_box_bottom_left, penalty_box_height, d_right + 180)  # 右禁区左上角\n",
    "        right_penalty_box_bottom_right = get_new_coordinate(right_penalty_box_bottom_left, penalty_box_width, d_up)  # 右禁区右下角\n",
    "        right_penalty_box_top_right = get_new_coordinate(right_penalty_box_top_left, penalty_box_width, d_up)  # 右禁区右上角\n",
    "\n",
    "\n",
    "        self.checkpoints = {\n",
    "        'left_bottom': left_bottom,  # 左下角\n",
    "        'left_top': left_top,  # 左上角\n",
    "        'right_bottom': right_bottom,  # 右下角\n",
    "        'right_top': right_top,  # 右上角\n",
    "        'top_mid': top_mid,  # 中\n",
    "        'bottom_mid': bottom_mid,  # 中\n",
    "        'center': center,\n",
    "        'left_penalty_box_bottom_left': left_penalty_box_bottom_left,  # 左禁区左下角\n",
    "        'left_penalty_box_top_left': left_penalty_box_top_left,  # 左禁区左上角\n",
    "        'left_penalty_box_bottom_right': left_penalty_box_bottom_right,  # 左禁区右下角\n",
    "        'left_penalty_box_top_right': left_penalty_box_top_right,  # 左禁区右上角\n",
    "        'right_penalty_box_bottom_left': right_penalty_box_bottom_left,  # 右禁区左下角\n",
    "        'right_penalty_box_top_left': right_penalty_box_top_left,  # 右禁区左上角\n",
    "        'right_penalty_box_bottom_right': right_penalty_box_bottom_right,  # 右禁区右下角\n",
    "        'right_penalty_box_top_right': right_penalty_box_top_right,  # 右禁区右上角\n",
    "        }\n",
    "        return self.checkpoints\n",
    "\n",
    "    def generate_trajectory(self, mode=\"wgs\", resolution=0.1):\n",
    "        points = []\n",
    "\n",
    "        traversal_keys = [\"left_bottom\",\n",
    "                          \"left_penalty_box_bottom_right\", \"left_penalty_box_top_right\", \"left_penalty_box_top_left\", \"left_penalty_box_bottom_left\",\n",
    "                          \"left_penalty_box_bottom_right\", \"left_top\",\n",
    "                          \"top_mid\", \"center\", \"top_mid\", \"right_top\",\n",
    "                          'right_penalty_box_bottom_right', 'right_penalty_box_top_right', 'right_penalty_box_top_left', 'right_penalty_box_bottom_left','right_penalty_box_bottom_right',\n",
    "                          \"right_bottom\", \"bottom_mid\", \"center\", \"bottom_mid\", \"left_bottom\"\n",
    "                          ]\n",
    "\n",
    "        for key in traversal_keys:\n",
    "            points.append(self.checkpoints[key].to_local_crs())\n",
    "\n",
    "        distances = [np.linalg.norm(np.array(points[i + 1]) - np.array(points[i])) for i in range(len(points) - 1)]\n",
    "\n",
    "        num_points = [int(dist / resolution) for dist in distances]\n",
    "\n",
    "        for i in range(len(points) - 1):\n",
    "            start = np.array(points[i])\n",
    "            end = np.array(points[i + 1])\n",
    "            step = (end - start) / num_points[i]\n",
    "            for j in range(num_points[i]):\n",
    "                self.trajectory.append(start + j * step)\n",
    "\n",
    "        self.trajectory.append(points[-1])\n",
    "\n",
    "        return self.trajectory\n",
    "\n",
    "# enhance the SoccerField class with corner arcs and central circle\n",
    "\n"
   ],
   "metadata": {
    "collapsed": false,
    "ExecuteTime": {
     "start_time": "2023-04-16T03:52:20.458060Z",
     "end_time": "2023-04-16T03:52:20.480257Z"
    }
   }
  },
  {
   "cell_type": "code",
   "execution_count": 150,
   "outputs": [],
   "source": [
    "class GeoPattern:\n",
    "\n",
    "    def __init__(self, left_bottom_checkpoint_, bottom_line_direction_, field_type, length=105, width=68):\n",
    "        self.field_length = length  # 足球场长度（米）\n",
    "        self.field_width = width  # 足球场宽度（米）\n",
    "        self.field = field_type(left_bottom_checkpoint_, bottom_line_direction_, length, width)\n",
    "        self.trajectory = local_xy_to_wgs84(self.field.generate_trajectory())\n",
    "\n",
    "    def plot_trajectory(self):\n",
    "        x,y = zip(*self.trajectory)\n",
    "        plt.plot(x, y, marker='o')\n",
    "        plt.xlabel('Easting (X)')\n",
    "        plt.ylabel('Northing (Y)')\n",
    "        plt.axis('equal')\n",
    "        plt.title('Soccer Field Trajectory')\n",
    "        plt.grid()\n",
    "        plt.show()\n",
    "\n",
    "    def save_trajectory_to_file(self, filename):\n",
    "        with open(filename, 'w') as file:\n",
    "            file.write('Easting,Northing\\n')\n",
    "            for point in self.trajectory:\n",
    "                file.write(f'{point[0]},{point[1]}\\n')"
   ],
   "metadata": {
    "collapsed": false,
    "ExecuteTime": {
     "start_time": "2023-04-16T03:52:21.428059Z",
     "end_time": "2023-04-16T03:52:21.446155Z"
    }
   }
  },
  {
   "cell_type": "code",
   "execution_count": 151,
   "outputs": [
    {
     "data": {
      "text/plain": "<Figure size 640x480 with 1 Axes>",
      "image/png": "[encoded data removed]"
     },
     "metadata": {},
     "output_type": "display_data"
    }
   ],
   "source": [
    "left_bottom_checkpoint = Checkpoint(121.4294481,31.0220344)  # 请使用实际坐标\n",
    "bottom_line_direction = 104  # 向东为0度，向北为90度\n",
    "\n",
    "geo_pattern = GeoPattern(left_bottom_checkpoint, bottom_line_direction, SoccerField)\n",
    "\n",
    "geo_pattern.plot_trajectory()\n",
    "geo_pattern.save_trajectory_to_file('trajectory.csv')\n"
   ],
   "metadata": {
    "collapsed": false,
    "ExecuteTime": {
     "start_time": "2023-04-16T03:52:21.753851Z",
     "end_time": "2023-04-16T03:52:24.286695Z"
    }
   }
  },
  {
   "cell_type": "code",
   "execution_count": 145,
   "outputs": [],
   "source": [],
   "metadata": {
    "collapsed": false,
    "ExecuteTime": {
     "start_time": "2023-04-16T03:38:11.626165Z",
     "end_time": "2023-04-16T03:38:11.627876Z"
    }
   }
  },
  {
   "cell_type": "code",
   "execution_count": null,
   "outputs": [],
   "source": [],
   "metadata": {
    "collapsed": false
   }
  }
 ],
 "metadata": {
  "kernelspec": {
   "display_name": "Python 3",
   "language": "python",
   "name": "python3"
  },
  "language_info": {
   "codemirror_mode": {
    "name": "ipython",
    "version": 2
   },
   "file_extension": ".py",
   "mimetype": "text/x-python",
   "name": "python",
   "nbconvert_exporter": "python",
   "pygments_lexer": "ipython2",
   "version": "2.7.6"
  }
 },
 "nbformat": 4,
 "nbformat_minor": 0
}
